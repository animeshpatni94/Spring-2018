{
 "cells": [
  {
   "cell_type": "code",
   "execution_count": 113,
   "metadata": {
    "collapsed": true
   },
   "outputs": [],
   "source": [
    "from collections import Counter\n",
    "import matplotlib.pyplot as plt\n",
    "import networkx as nx\n",
    "import re\n",
    "import pandas as pd\n",
    "import sys\n",
    "import time\n",
    "import tweepy\n",
    "import nltk\n",
    "from textblob import TextBlob\n",
    "from nltk.tokenize import word_tokenize\n",
    "from nltk.stem import PorterStemmer\n",
    "from nltk.corpus import stopwords\n",
    "from nltk.tokenize import word_tokenize\n",
    "import csv\n",
    "from TwitterAPI import TwitterAPI"
   ]
  },
  {
   "cell_type": "code",
   "execution_count": 114,
   "metadata": {
    "collapsed": true
   },
   "outputs": [],
   "source": [
    "consumer_key = 'fmEX9EvoyQ5UkJgEhn3K0ckuq'\n",
    "consumer_secret = 'IKcBtkaBKUEWfEtZJC7e1lSgrx8pzsYXpMW8oh570pfGOxi5eb'\n",
    "access_token = '4602561163-2uZhnk8R6lXlbnEOtdZhkiER5z8S05FEH9QLnve'\n",
    "access_token_secret = 'nycUV1POzAz9Uy5QOHlqgaXp00BFEcYv5k9cvtKtQDWGN'"
   ]
  },
  {
   "cell_type": "code",
   "execution_count": 115,
   "metadata": {
    "collapsed": true
   },
   "outputs": [],
   "source": [
    "def get_twitter():\n",
    "    return TwitterAPI(consumer_key, consumer_secret, access_token, access_token_secret)\n"
   ]
  },
  {
   "cell_type": "code",
   "execution_count": 116,
   "metadata": {
    "collapsed": true
   },
   "outputs": [],
   "source": [
    "def gettweet(name):\n",
    "    auth = tweepy.OAuthHandler(consumer_key, consumer_secret)\n",
    "    auth.set_access_token(access_token, access_token_secret)\n",
    "    api = tweepy.API(auth)\n",
    "    outtweets=[]\n",
    "    tweets = []\n",
    "    for i in name:\n",
    "        alltweets = []\n",
    "        newtweet = api.user_timeline(screen_name = i,count = 200)\n",
    "        alltweets.extend(newtweet)\n",
    "        old = alltweets[-1].id-1\n",
    "        while len(newtweet)>0:\n",
    "            newtweet = api.user_timeline(screen_name = i,count = 200,max_id = old)\n",
    "            alltweets.extend(newtweet)\n",
    "            old = alltweets[-1].id-1\n",
    "        #outtweets.extend([i,tweet.id_str, tweet.created_at, tweet.text.encode(\"utf-8\"),tweet.retweet_count,tweet.favorite_count,tweet] for tweet in alltweets)\n",
    "        for tweet in alltweets:\n",
    "            parse = {}\n",
    "            parse['name'] = i\n",
    "            parse['id'] = tweet.id_str\n",
    "            parse['date'] = tweet.created_at\n",
    "            parse['text'] = tweet.text.encode(\"utf-8\")\n",
    "            parse['polarity'] = getsenti(tweet.text)\n",
    "            parse['retweet'] = tweet.retweet_count\n",
    "            parse['fav'] = tweet.favorite_count\n",
    "            outtweets.append(parse)\n",
    "    #print(outtweets)\n",
    "    keys = outtweets[0].keys()\n",
    "    with open('trainer.csv', 'w') as f:\n",
    "        writer = csv.DictWriter(f,keys)\n",
    "        #writer.writerow([\"name\",\"id\",\"created_at\",\"text\",\"Polarity\",\"Retweet Count\",\"Fav Count\"])\n",
    "        writer.writeheader()\n",
    "        writer.writerows(outtweets)"
   ]
  },
  {
   "cell_type": "code",
   "execution_count": 117,
   "metadata": {
    "collapsed": true
   },
   "outputs": [],
   "source": [
    "def getsenti(tweet):\n",
    "        analysis = TextBlob(clean_tweet(tweet))\n",
    "        if analysis.sentiment.polarity > 0:\n",
    "            return '4'\n",
    "        elif analysis.sentiment.polarity == 0:\n",
    "            return '0'\n",
    "        else:\n",
    "            return '-4'"
   ]
  },
  {
   "cell_type": "code",
   "execution_count": 118,
   "metadata": {},
   "outputs": [
    {
     "name": "stdout",
     "output_type": "stream",
     "text": [
      "Read screen names: ['BarackObama', 'HillaryClinton', 'KingJames', 'serenawilliams', 'katyperry', 'justinbieber', 'jk_rowling', 'johngreen', 'SpaceX', 'pepsi', 'elonmusk', 'mtbarra']\n"
     ]
    }
   ],
   "source": [
    "def read_screen_names(filename):\n",
    "    with open(filename) as d:\n",
    "        names = d.read().splitlines()\n",
    "    d.close()\n",
    "    return names\n",
    "\n",
    "screen_names = read_screen_names('trainer.txt')\n",
    "print('Read screen names: %s' % screen_names)"
   ]
  },
  {
   "cell_type": "code",
   "execution_count": 119,
   "metadata": {},
   "outputs": [],
   "source": [
    "def clean_tweet(tweet):\n",
    "        return ' '.join(re.sub(\"(@[A-Za-z0-9]+)|([^0-9A-Za-z \\t])|(\\w+:\\/\\/\\S+)\", \"\", tweet).split())"
   ]
  },
  {
   "cell_type": "code",
   "execution_count": 120,
   "metadata": {},
   "outputs": [],
   "source": [
    "gettweet(screen_names) "
   ]
  },
  {
   "cell_type": "code",
   "execution_count": null,
   "metadata": {
    "collapsed": true
   },
   "outputs": [],
   "source": []
  }
 ],
 "metadata": {
  "kernelspec": {
   "display_name": "Python 3",
   "language": "python",
   "name": "python3"
  },
  "language_info": {
   "codemirror_mode": {
    "name": "ipython",
    "version": 3
   },
   "file_extension": ".py",
   "mimetype": "text/x-python",
   "name": "python",
   "nbconvert_exporter": "python",
   "pygments_lexer": "ipython3",
   "version": "3.6.3"
  }
 },
 "nbformat": 4,
 "nbformat_minor": 2
}
