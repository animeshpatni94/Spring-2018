{
 "cells": [
  {
   "cell_type": "code",
   "execution_count": 21,
   "metadata": {},
   "outputs": [],
   "source": [
    "import networkx as nx\n",
    "\n",
    "def jaccard_wt(graph, node):\n",
    "    new  = set(graph.neighbors(node))\n",
    "    jac = []\n",
    "    G = graph.nodes()\n",
    "    for i in G:\n",
    "        if i not in new:\n",
    "            if i != node:\n",
    "                new1 = set(graph.neighbors(i))\n",
    "                z = sum(1/graph.degree(n) for n in ( new & new1 ))\n",
    "                num = float(z)\n",
    "                z1 = float(sum(graph.degree(j) for j in new))\n",
    "                dem1 = float(1/z1)\n",
    "                z2 = float(sum(graph.degree(k) for k in new1))\n",
    "                dem2 = float(1/z2)\n",
    "                dem = dem1+dem2\n",
    "                final = num/dem\n",
    "                jac.append(((node,i),final))\n",
    "    k = lambda x:(-x[1],x[0])\n",
    "    #jac = sorted(jac,key = k)\n",
    "    return jac\n",
    "    pass"
   ]
  },
  {
   "cell_type": "code",
   "execution_count": 22,
   "metadata": {},
   "outputs": [],
   "source": [
    "def main():\n",
    "    G=nx.Graph()\n",
    "    G.add_edges_from([('A','B'),('B','C'),('B','D'),('E','F')])\n",
    "    print(jaccard_wt(G,'A'))"
   ]
  },
  {
   "cell_type": "code",
   "execution_count": 23,
   "metadata": {},
   "outputs": [
    {
     "name": "stdout",
     "output_type": "stream",
     "text": [
      "[(('A', 'C'), 0.5), (('A', 'D'), 0.5), (('A', 'E'), 0.0), (('A', 'F'), 0.0)]\n"
     ]
    }
   ],
   "source": [
    "if __name__ == '__main__':\n",
    "    main()"
   ]
  },
  {
   "cell_type": "code",
   "execution_count": 24,
   "metadata": {},
   "outputs": [],
   "source": [
    "def example_graph():\n",
    "     g = nx.Graph()\n",
    "     g.add_edges_from([('A', 'B'), ('A', 'C'), ('B', 'H'), ('B', 'D'), ('C', 'G'), ('C', 'D'), ('D', 'E'), ('D', 'F')])\n",
    "     return g"
   ]
  },
  {
   "cell_type": "code",
   "execution_count": 25,
   "metadata": {},
   "outputs": [
    {
     "name": "stdout",
     "output_type": "stream",
     "text": [
      "[(('A', 'H'), 0.6666666666666666), (('A', 'D'), 2.285714285714286), (('A', 'G'), 0.6666666666666666), (('A', 'E'), 0.0), (('A', 'F'), 0.0)]\n"
     ]
    }
   ],
   "source": [
    "if __name__ == '__main__':\n",
    "     g = example_graph()\n",
    "     print(jaccard_wt(g, 'A'))"
   ]
  },
  {
   "cell_type": "code",
   "execution_count": 26,
   "metadata": {},
   "outputs": [],
   "source": [
    "def main():\n",
    "    graph = nx.davis_southern_women_graph()\n",
    "    degrees = graph.degree()\n",
    "    \n",
    "    print(degrees)\n",
    "\n",
    "    author = sorted(degrees,key=lambda x: x[-1],reverse=True)[10][0]\n",
    "    print(author)\n",
    "    scores = jaccard_wt(graph,author)\n",
    "    print(sorted(scores,key = lambda x: x[1],reverse= True))\n",
    "\n",
    "    n1 = set(graph.neighbors('Sylvia Avondale'))\n",
    "    n2 = set(graph.neighbors('Nora Fayette'))\n",
    "    a = n1 & n2\n",
    "    print(\"Tmp***\")\n",
    "    print(a)\n",
    "    for n in a:\n",
    "        print(\"Degre os %s is %d\"%(str(n),graph.degree(n)))"
   ]
  },
  {
   "cell_type": "code",
   "execution_count": 27,
   "metadata": {},
   "outputs": [
    {
     "name": "stdout",
     "output_type": "stream",
     "text": [
      "[('Evelyn Jefferson', 8), ('Laura Mandeville', 7), ('Theresa Anderson', 8), ('Brenda Rogers', 7), ('Charlotte McDowd', 4), ('Frances Anderson', 4), ('Eleanor Nye', 4), ('Pearl Oglethorpe', 3), ('Ruth DeSand', 4), ('Verne Sanderson', 4), ('Myra Liddel', 4), ('Katherina Rogers', 6), ('Sylvia Avondale', 7), ('Nora Fayette', 8), ('Helen Lloyd', 5), ('Dorothy Murchison', 2), ('Olivia Carleton', 2), ('Flora Price', 2), ('E1', 3), ('E2', 3), ('E3', 6), ('E4', 4), ('E5', 8), ('E6', 8), ('E7', 10), ('E8', 14), ('E9', 12), ('E10', 5), ('E11', 4), ('E12', 6), ('E13', 3), ('E14', 3)]\n",
      "Sylvia Avondale\n",
      "[(('Sylvia Avondale', 'Nora Fayette'), 31.621634615384615), (('Sylvia Avondale', 'Katherina Rogers'), 28.204885912698415), (('Sylvia Avondale', 'Helen Lloyd'), 12.089596273291924), (('Sylvia Avondale', 'Myra Liddel'), 11.361349206349205), (('Sylvia Avondale', 'Verne Sanderson'), 9.874736842105262), (('Sylvia Avondale', 'Theresa Anderson'), 7.43775221953188), (('Sylvia Avondale', 'Ruth DeSand'), 6.124791359842905), (('Sylvia Avondale', 'Brenda Rogers'), 4.542857142857143), (('Sylvia Avondale', 'Laura Mandeville'), 4.4995918367346945), (('Sylvia Avondale', 'Evelyn Jefferson'), 4.285928785928785), (('Sylvia Avondale', 'Eleanor Nye'), 3.907834101382488), (('Sylvia Avondale', 'Pearl Oglethorpe'), 3.205528188286809), (('Sylvia Avondale', 'Dorothy Murchison'), 2.699517781796263), (('Sylvia Avondale', 'Charlotte McDowd'), 1.832098765432099), (('Sylvia Avondale', 'Frances Anderson'), 1.5313001605136438), (('Sylvia Avondale', 'Olivia Carleton'), 1.0241545893719806), (('Sylvia Avondale', 'Flora Price'), 1.0241545893719806), (('Sylvia Avondale', 'E1'), 0.0), (('Sylvia Avondale', 'E2'), 0.0), (('Sylvia Avondale', 'E3'), 0.0), (('Sylvia Avondale', 'E4'), 0.0), (('Sylvia Avondale', 'E5'), 0.0), (('Sylvia Avondale', 'E6'), 0.0), (('Sylvia Avondale', 'E11'), 0.0)]\n",
      "Tmp***\n",
      "{'E13', 'E10', 'E7', 'E14', 'E9', 'E12'}\n",
      "Degre os E13 is 3\n",
      "Degre os E10 is 5\n",
      "Degre os E7 is 10\n",
      "Degre os E14 is 3\n",
      "Degre os E9 is 12\n",
      "Degre os E12 is 6\n"
     ]
    }
   ],
   "source": [
    "if __name__ == '__main__':\n",
    "    main()"
   ]
  },
  {
   "cell_type": "code",
   "execution_count": null,
   "metadata": {},
   "outputs": [],
   "source": []
  },
  {
   "cell_type": "code",
   "execution_count": null,
   "metadata": {},
   "outputs": [],
   "source": []
  }
 ],
 "metadata": {
  "kernelspec": {
   "display_name": "Python 3",
   "language": "python",
   "name": "python3"
  },
  "language_info": {
   "codemirror_mode": {
    "name": "ipython",
    "version": 3
   },
   "file_extension": ".py",
   "mimetype": "text/x-python",
   "name": "python",
   "nbconvert_exporter": "python",
   "pygments_lexer": "ipython3",
   "version": "3.6.4"
  }
 },
 "nbformat": 4,
 "nbformat_minor": 2
}
