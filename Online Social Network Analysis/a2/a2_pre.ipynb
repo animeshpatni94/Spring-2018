{
 "cells": [
  {
   "cell_type": "code",
   "execution_count": 1,
   "metadata": {},
   "outputs": [],
   "source": [
    "# No imports allowed besides these.\n",
    "from collections import Counter, defaultdict\n",
    "from itertools import chain, combinations\n",
    "import glob\n",
    "import matplotlib.pyplot as plt\n",
    "import numpy as np\n",
    "import os\n",
    "import re\n",
    "from scipy.sparse import csr_matrix\n",
    "from sklearn.model_selection import KFold\n",
    "from sklearn.linear_model import LogisticRegression\n",
    "import string\n",
    "import tarfile\n",
    "import urllib.request"
   ]
  },
  {
   "cell_type": "code",
   "execution_count": 2,
   "metadata": {},
   "outputs": [],
   "source": [
    "def download_data():\n",
    "    \"\"\" Download and unzip data.\n",
    "    DONE ALREADY.\n",
    "    \"\"\"\n",
    "    url = 'https://www.dropbox.com/s/xk4glpk61q3qrg2/imdb.tgz?dl=1'\n",
    "    urllib.request.urlretrieve(url, 'imdb.tgz')\n",
    "    tar = tarfile.open(\"imdb.tgz\")\n",
    "    tar.extractall()\n",
    "    tar.close()"
   ]
  },
  {
   "cell_type": "code",
   "execution_count": 3,
   "metadata": {},
   "outputs": [],
   "source": [
    "def read_data(path):\n",
    "    \"\"\"\n",
    "    Walks all subdirectories of this path and reads all\n",
    "    the text files and labels.\n",
    "    DONE ALREADY.\n",
    "    Params:\n",
    "      path....path to files\n",
    "    Returns:\n",
    "      docs.....list of strings, one per document\n",
    "      labels...list of ints, 1=positive, 0=negative label.\n",
    "               Inferred from file path (i.e., if it contains\n",
    "               'pos', it is 1, else 0)\n",
    "    \"\"\"\n",
    "    fnames = sorted([f for f in glob.glob(os.path.join(path, 'pos', '*.txt'))])\n",
    "    data = [(1, open(f).readlines()[0]) for f in sorted(fnames)]\n",
    "    fnames = sorted([f for f in glob.glob(os.path.join(path, 'neg', '*.txt'))])\n",
    "    data += [(0, open(f).readlines()[0]) for f in sorted(fnames)]\n",
    "    data = sorted(data, key=lambda x: x[1])\n",
    "    return np.array([d[1] for d in data]), np.array([d[0] for d in data])\n"
   ]
  },
  {
   "cell_type": "code",
   "execution_count": 16,
   "metadata": {},
   "outputs": [],
   "source": [
    "def tokenize(doc, keep_internal_punct=False):\n",
    "    \"\"\"\n",
    "    Tokenize a string.\n",
    "    The string should be converted to lowercase.\n",
    "    If keep_internal_punct is False, then return only the alphanumerics (letters, numbers and underscore).\n",
    "    If keep_internal_punct is True, then also retain punctuation that\n",
    "    is inside of a word. E.g., in the example below, the token \"isn't\"\n",
    "    is maintained when keep_internal_punct=True; otherwise, it is\n",
    "    split into \"isn\" and \"t\" tokens.\n",
    "    Params:\n",
    "      doc....a string.\n",
    "      keep_internal_punct...see above\n",
    "    Returns:\n",
    "      a numpy array containing the resulting tokens.\n",
    "    >>> tokenize(\" Hi there! Isn't this fun?\", keep_internal_punct=False)\n",
    "    array(['hi', 'there', 'isn', 't', 'this', 'fun'], \n",
    "          dtype='<U5')\n",
    "    >>> tokenize(\"Hi there! Isn't this fun? \", keep_internal_punct=True)\n",
    "    array(['hi', 'there', \"isn't\", 'this', 'fun'], \n",
    "          dtype='<U5')\n",
    "    \"\"\"\n",
    "    w=\"\"\n",
    "    punch = string.punctuation.replace(\"_\",\"\")\n",
    "    if(keep_internal_punct==False):\n",
    "        result = re.sub(r\"[^\\w]\",\" \",doc.lower()).split()\n",
    "        final = np.array(result, dtype=\"unicode\")\n",
    "    else:\n",
    "        for i in doc.split():\n",
    "            #punch = punctuation.replace(\"_\",\"\")\n",
    "            r = i.strip(punch)\n",
    "            w = w + r + \" \"\n",
    "        result = re.sub(r'\\s+',\" \",w.lower()).split()\n",
    "        final = np.array(result, dtype=\"unicode\")\n",
    "    return final.astype('U')"
   ]
  },
  {
   "cell_type": "code",
   "execution_count": 17,
   "metadata": {},
   "outputs": [
    {
     "data": {
      "text/plain": [
       "array(['hi', 'the_re', '2323', '_', '_anim', 'esh55', 'isn', 't', 'this',\n",
       "       'fun'], dtype='<U6')"
      ]
     },
     "execution_count": 17,
     "metadata": {},
     "output_type": "execute_result"
    }
   ],
   "source": [
    "tokenize(\"Hi the_re! 2323 _ _anim'esh55! Isn't this fun? \", keep_internal_punct=False)"
   ]
  },
  {
   "cell_type": "code",
   "execution_count": 255,
   "metadata": {
    "collapsed": true
   },
   "outputs": [],
   "source": [
    "def token_features(tokens, feats):\n",
    "    \"\"\"\n",
    "    Add features for each token. The feature name\n",
    "    is pre-pended with the string \"token=\".\n",
    "    Note that the feats dict is modified in place,\n",
    "    so there is no return value.\n",
    "    Params:\n",
    "      tokens...array of token strings from a document.\n",
    "      feats....dict from feature name to frequency\n",
    "    Returns:\n",
    "      nothing; feats is modified in place.\n",
    "    >>> feats = defaultdict(lambda: 0)\n",
    "    >>> token_features(['hi', 'there', 'hi'], feats)\n",
    "    >>> sorted(feats.items())\n",
    "    [('token=hi', 2), ('token=there', 1)]\n",
    "    \"\"\"\n",
    "    c=0\n",
    "    for i in tokens:\n",
    "        c=0\n",
    "        for j in tokens:\n",
    "            if i==j:\n",
    "                c=c+1\n",
    "        feats[\"token=\"+i] = c"
   ]
  },
  {
   "cell_type": "code",
   "execution_count": 256,
   "metadata": {},
   "outputs": [
    {
     "data": {
      "text/plain": [
       "[('token=Animesh', 2), ('token=Patni', 1), ('token=hi', 3), ('token=there', 2)]"
      ]
     },
     "execution_count": 256,
     "metadata": {},
     "output_type": "execute_result"
    }
   ],
   "source": [
    "feats = defaultdict(lambda: 0)\n",
    "token_features(['hi', 'there', 'hi','Animesh','Patni','Animesh','hi','there'], feats)\n",
    "sorted(feats.items())"
   ]
  },
  {
   "cell_type": "code",
   "execution_count": 257,
   "metadata": {
    "collapsed": true
   },
   "outputs": [],
   "source": [
    "def token_pair_features(tokens, feats, k=3):\n",
    "    \"\"\"\n",
    "    Compute features indicating that two words occur near\n",
    "    each other within a window of size k.\n",
    "    For example [a, b, c, d] with k=3 will consider the\n",
    "    windows: [a,b,c], [b,c,d]. In the first window,\n",
    "    a_b, a_c, and b_c appear; in the second window,\n",
    "    b_c, c_d, and b_d appear. This example is in the\n",
    "    doctest below.\n",
    "    Note that the order of the tokens in the feature name\n",
    "    matches the order in which they appear in the document.\n",
    "    (e.g., a__b, not b__a)\n",
    "    Params:\n",
    "      tokens....array of token strings from a document.\n",
    "      feats.....a dict from feature to value\n",
    "      k.........the window size (3 by default)\n",
    "    Returns:\n",
    "      nothing; feats is modified in place.\n",
    "    >>> feats = defaultdict(lambda: 0)\n",
    "    >>> token_pair_features(np.array(['a', 'b', 'c', 'd']), feats)\n",
    "    >>> sorted(feats.items())\n",
    "    [('token_pair=a__b', 1), ('token_pair=a__c', 1), ('token_pair=b__c', 2), ('token_pair=b__d', 1), ('token_pair=c__d', 1)]\n",
    "    \"\"\"\n",
    "    \"\"\"tpf = []\n",
    "    r = len(tokens)-k+1\n",
    "    for x in range(r):\n",
    "        for y in combinations(tokens[x:x+k],2):\n",
    "\n",
    "            tpf.extend([\"=\".join([\"token_pair\",\"__\".join(y)])])\n",
    "\n",
    "    for x in tpf:\n",
    "        if \"token_pair=\"+x not in feats:\n",
    "            feats[\"token_pair=\"+x] = 1\n",
    "        elif \"token_pair=\"+x in feats:\n",
    "            feats[\"token_pair=\"+x] = feats[\"token_pair=\"+x] + 1\n",
    "\n",
    "    pass\"\"\"\n",
    "    w=[]\n",
    "    #z={}\n",
    "    for i in range(len(tokens)):\n",
    "        c=0\n",
    "        j=i\n",
    "        if i+k-1<len(tokens):\n",
    "            while(c<k):\n",
    "                w.append(tokens[j])\n",
    "                c=c+1\n",
    "                j=j+1\n",
    "        else:\n",
    "            break\n",
    "        combination(w,feats)\n",
    "        #print(i)\n",
    "        #z[i]=w\n",
    "        #print(w)\n",
    "        w.clear()\n",
    "    #print(z)\"\"\"\n",
    "        \n",
    "        \n",
    "    "
   ]
  },
  {
   "cell_type": "code",
   "execution_count": 258,
   "metadata": {
    "collapsed": true
   },
   "outputs": [],
   "source": [
    "def combination(w,feats): \n",
    "    #for i in combinations(w,2):\n",
    "    #        token = [i[0]+\"__\"+i[1]]\n",
    "    #        for j in token:\n",
    "    #            for k in token:\n",
    "    #                if j==k:\n",
    "    #                    c=c+1\n",
    "    #            feats[\"token=\"+j] = c\n",
    "            #feats[token] = feats[token]+1\n",
    "    #print(token)\n",
    "    #print(feats)\n",
    "    for i in combinations(w,2):\n",
    "        parts = [i[0]+\"__\"+i[1]]\n",
    "        #print(parts)\n",
    "        #feats[parts]=feats[parts]+1\n",
    "        for j in parts:\n",
    "            if \"token_pair=\"+j not in feats:\n",
    "                feats[\"token_pair=\"+j] = 1\n",
    "            elif \"token_pair=\"+j in feats:\n",
    "                feats[\"token_pair=\"+j] = feats[\"token_pair=\"+j] + 1\n",
    "    #print(feats)\n",
    "    #for i in parts:\n",
    "    #    c=0\n",
    "    #    for j in parts:\n",
    "    #        if i==j:\n",
    "    #            c=c+1\n",
    "    #    feats[\"token_pair=\"+i] = c\n",
    "    #print()"
   ]
  },
  {
   "cell_type": "code",
   "execution_count": 259,
   "metadata": {},
   "outputs": [
    {
     "data": {
      "text/plain": [
       "[('token_pair=a__b', 1),\n",
       " ('token_pair=a__c', 1),\n",
       " ('token_pair=b__c', 2),\n",
       " ('token_pair=b__d', 1),\n",
       " ('token_pair=c__d', 2),\n",
       " ('token_pair=c__e', 1),\n",
       " ('token_pair=d__e', 1)]"
      ]
     },
     "execution_count": 259,
     "metadata": {},
     "output_type": "execute_result"
    }
   ],
   "source": [
    "feats = defaultdict(lambda: 0)\n",
    "token_pair_features(np.array(['a', 'b', 'c', 'd','e']), feats)\n",
    "sorted(feats.items())"
   ]
  },
  {
   "cell_type": "code",
   "execution_count": 260,
   "metadata": {
    "collapsed": true
   },
   "outputs": [],
   "source": [
    "neg_words = set(['bad', 'hate', 'horrible', 'worst', 'boring'])\n",
    "pos_words = set(['awesome', 'amazing', 'best', 'good', 'great', 'love', 'wonderful'])"
   ]
  },
  {
   "cell_type": "code",
   "execution_count": 261,
   "metadata": {
    "collapsed": true
   },
   "outputs": [],
   "source": [
    "def lexicon_features(tokens, feats):\n",
    "    \"\"\"\n",
    "    Add features indicating how many time a token appears that matches either\n",
    "    the neg_words or pos_words (defined above). The matching should ignore\n",
    "    case.\n",
    "    Params:\n",
    "      tokens...array of token strings from a document.\n",
    "      feats....dict from feature name to frequency\n",
    "    Returns:\n",
    "      nothing; feats is modified in place.\n",
    "    In this example, 'LOVE' and 'great' match the pos_words,\n",
    "    and 'boring' matches the neg_words list.\n",
    "    >>> feats = defaultdict(lambda: 0)\n",
    "    >>> lexicon_features(np.array(['i', 'LOVE', 'this', 'great', 'boring', 'movie']), feats)\n",
    "    >>> sorted(feats.items())\n",
    "    [('neg_words', 1), ('pos_words', 2)]\n",
    "    \"\"\"\n",
    "    ###TODO\n",
    "    feats['pos_words'] = 0\n",
    "    feats['neg_words'] = 0\n",
    "    for i in tokens:\n",
    "        for j in pos_words:\n",
    "            if(i.lower()==j.lower()):\n",
    "                feats['pos_words'] = feats['pos_words']+1\n",
    "                \n",
    "    for i in tokens:\n",
    "        for j in neg_words:\n",
    "            if(i.lower()==j.lower()):\n",
    "                feats['neg_words'] = feats['neg_words']+1\n",
    "    pass"
   ]
  },
  {
   "cell_type": "code",
   "execution_count": 262,
   "metadata": {},
   "outputs": [
    {
     "data": {
      "text/plain": [
       "[('neg_words', 1), ('pos_words', 2)]"
      ]
     },
     "execution_count": 262,
     "metadata": {},
     "output_type": "execute_result"
    }
   ],
   "source": [
    "feats = defaultdict(lambda: 0)\n",
    "lexicon_features(np.array(['i', 'LOVe', 'this', 'great', 'boring', 'movie']), feats)\n",
    "sorted(feats.items())"
   ]
  },
  {
   "cell_type": "code",
   "execution_count": 263,
   "metadata": {
    "collapsed": true
   },
   "outputs": [],
   "source": [
    "def featurize(tokens, feature_fns):\n",
    "    \"\"\"\n",
    "    Compute all features for a list of tokens from\n",
    "    a single document.\n",
    "    Params:\n",
    "      tokens........array of token strings from a document.\n",
    "      feature_fns...a list of functions, one per feature\n",
    "    Returns:\n",
    "      list of (feature, value) tuples, SORTED alphabetically\n",
    "      by the feature name.\n",
    "    >>> feats = featurize(np.array(['i', 'LOVE', 'this', 'great', 'movie']), [token_features, lexicon_features])\n",
    "    >>> feats\n",
    "    [('neg_words', 0), ('pos_words', 2), ('token=LOVE', 1), ('token=great', 1), ('token=i', 1), ('token=movie', 1), ('token=this', 1)]\n",
    "    \"\"\"\n",
    "    ###TODO\n",
    "    feats={}\n",
    "    w=[]\n",
    "    for i in feature_fns:\n",
    "        i(tokens,feats)\n",
    "        #print(feats)\n",
    "    for i,j in feats.items():\n",
    "        s=(i,j)\n",
    "        #print(s)\n",
    "        w.append(s)\n",
    "    return(sorted(w))\n",
    "    "
   ]
  },
  {
   "cell_type": "code",
   "execution_count": 264,
   "metadata": {},
   "outputs": [
    {
     "data": {
      "text/plain": [
       "[('neg_words', 0),\n",
       " ('pos_words', 4),\n",
       " ('token=Best', 1),\n",
       " ('token=HAPPY', 1),\n",
       " ('token=I', 1),\n",
       " ('token=LOVE', 2),\n",
       " ('token=great', 1),\n",
       " ('token=movie', 1),\n",
       " ('token=this', 1)]"
      ]
     },
     "execution_count": 264,
     "metadata": {},
     "output_type": "execute_result"
    }
   ],
   "source": [
    "feats = featurize(np.array(['I', 'LOVE','LOVE','HAPPY','Best','this', 'great', 'movie']), [token_features, lexicon_features])\n",
    "feats"
   ]
  },
  {
   "cell_type": "code",
   "execution_count": 265,
   "metadata": {
    "collapsed": true
   },
   "outputs": [],
   "source": [
    "def vectorize(tokens_list, feature_fns, min_freq, vocab=None):\n",
    "    \"\"\"\n",
    "    Given the tokens for a set of documents, create a sparse\n",
    "    feature matrix, where each row represents a document, and\n",
    "    each column represents a feature.\n",
    "    Params:\n",
    "      tokens_list...a list of lists; each sublist is an\n",
    "                    array of token strings from a document.\n",
    "      feature_fns...a list of functions, one per feature\n",
    "      min_freq......Remove features that do not appear in\n",
    "                    at least min_freq different documents.\n",
    "    Returns:\n",
    "      - a csr_matrix: See https://goo.gl/f5TiF1 for documentation.\n",
    "      This is a sparse matrix (zero values are not stored).\n",
    "      - vocab: a dict from feature name to column index. NOTE\n",
    "      that the columns are sorted alphabetically (so, the feature\n",
    "      \"token=great\" is column 0 and \"token=horrible\" is column 1\n",
    "      because \"great\" < \"horrible\" alphabetically),\n",
    "    >>> docs = [\"Isn't this movie great?\", \"Horrible, horrible movie\"]\n",
    "    >>> tokens_list = [tokenize(d) for d in docs]\n",
    "    >>> feature_fns = [token_features]\n",
    "    >>> X, vocab = vectorize(tokens_list, feature_fns, min_freq=1)\n",
    "    >>> type(X)\n",
    "    <class 'scipy.sparse.csr.csr_matrix'>\n",
    "    >>> X.toarray()\n",
    "    array([[1, 0, 1, 1, 1, 1],\n",
    "           [0, 2, 0, 1, 0, 0]], dtype=int64)\n",
    "    >>> sorted(vocab.items(), key=lambda x: x[1])\n",
    "    [('token=great', 0), ('token=horrible', 1), ('token=isn', 2), ('token=movie', 3), ('token=t', 4), ('token=this', 5)]\n",
    "    \"\"\"\n",
    "    ###TODO\n",
    "    if vocab != None:\n",
    "        d=[]\n",
    "        r=[]\n",
    "        c=[]\n",
    "        for i in range(len(tokens_list)):\n",
    "            r1 = dict(featurize((tokens_list[i]),feature_fns))\n",
    "            for j in r1:\n",
    "                for k in vocab:\n",
    "                    if j==k:\n",
    "                        r.append(i)\n",
    "                        c.append(vocab[j])\n",
    "                        d.append(r1[j])\n",
    "        x=len(tokens_list)\n",
    "        y=len(vocab)\n",
    "        result = csr_matrix((d,(r,c)), shape=(x,y))\n",
    "        return result,vocab\n",
    "    elif vocab == None:\n",
    "        new_vocab = defaultdict(list)\n",
    "        doc = {}\n",
    "        for i in range(len(tokens_list)):\n",
    "            r1 = dict(featurize((tokens_list[i]),feature_fns))\n",
    "            #r1 = dict(r)\n",
    "            doc[i]=r1\n",
    "            for j in r1:\n",
    "                #print(j)\n",
    "                new_vocab[j].append(i)\n",
    "        #print(new_vocab)\n",
    "        #vocab1 = {}\n",
    "        vocab1 = {}\n",
    "        index = 0\n",
    "        for i in sorted(new_vocab):\n",
    "            if(len(new_vocab[i])>=min_freq):\n",
    "                vocab1[i]=index\n",
    "                index = index + 1\n",
    "        #print(vocab1['token=great'])\n",
    "        #print(vocab1)\n",
    "        r=[]\n",
    "        c=[]\n",
    "        d=[]\n",
    "        for i in sorted(vocab1.keys()):\n",
    "            for j in sorted(new_vocab[i]):\n",
    "                if i in doc[j]:\n",
    "                    r.append(j)\n",
    "                    c.append(vocab1[i])\n",
    "                    d.append(doc[j][i])\n",
    "        x=len(tokens_list)\n",
    "        y=len(vocab1)\n",
    "        result = csr_matrix((d,(r,c)), shape=(x,y))\n",
    "        #print(result)\n",
    "        return result,vocab1\n",
    "    pass"
   ]
  },
  {
   "cell_type": "code",
   "execution_count": 266,
   "metadata": {},
   "outputs": [
    {
     "data": {
      "text/plain": [
       "[('token=great', 0),\n",
       " ('token=horrible', 1),\n",
       " ('token=isn', 2),\n",
       " ('token=movie', 3),\n",
       " ('token=t', 4),\n",
       " ('token=this', 5)]"
      ]
     },
     "execution_count": 266,
     "metadata": {},
     "output_type": "execute_result"
    }
   ],
   "source": [
    "docs = [\"Isn't this movie great?\", \"Horrible, horrible movie\"]\n",
    "tokens_list = [tokenize(d) for d in docs]\n",
    "feature_fns = [token_features]\n",
    "X, vocab = vectorize(tokens_list, feature_fns, min_freq=1)\n",
    "type(X)\n",
    "X.toarray()\n",
    "sorted(vocab.items(), key=lambda x: x[1])"
   ]
  },
  {
   "cell_type": "code",
   "execution_count": 267,
   "metadata": {
    "collapsed": true
   },
   "outputs": [],
   "source": [
    "def accuracy_score(truth, predicted):\n",
    "    \"\"\" Compute accuracy of predictions.\n",
    "    DONE ALREADY\n",
    "    Params:\n",
    "      truth.......array of true labels (0 or 1)\n",
    "      predicted...array of predicted labels (0 or 1)\n",
    "    \"\"\"\n",
    "    return len(np.where(truth==predicted)[0]) / len(truth)"
   ]
  },
  {
   "cell_type": "code",
   "execution_count": 268,
   "metadata": {
    "collapsed": true
   },
   "outputs": [],
   "source": [
    "def cross_validation_accuracy(clf, X, labels, k):\n",
    "    \"\"\"\n",
    "    Compute the average testing accuracy over k folds of cross-validation. You\n",
    "    can use sklearn's KFold class here (no random seed, and no shuffling\n",
    "    needed).\n",
    "    Params:\n",
    "      clf......A LogisticRegression classifier.\n",
    "      X........A csr_matrix of features.\n",
    "      labels...The true labels for each instance in X\n",
    "      k........The number of cross-validation folds.\n",
    "    Returns:\n",
    "      The average testing accuracy of the classifier\n",
    "      over each fold of cross-validation.\n",
    "    \"\"\"\n",
    "    ###TODO\n",
    "    cv = KFold(n_splits = k,random_state=len(labels))\n",
    "    accuracies=[]\n",
    "    for train_ind, test_ind in cv.split(X):\n",
    "        #train, test = X[train_ind], X[test_ind]\n",
    "        clf.fit(X[train_ind],labels[train_ind])\n",
    "        predictions = clf.predict(X[test_ind])\n",
    "        accuracies.append(accuracy_score(labels[test_ind], predictions))\n",
    "    average = np.mean(np.array(accuracies))\n",
    "    #print(avergae)\n",
    "    return average\n",
    "    pass"
   ]
  },
  {
   "cell_type": "code",
   "execution_count": 269,
   "metadata": {
    "collapsed": true
   },
   "outputs": [],
   "source": [
    "def eval_all_combinations(docs, labels, punct_vals,feature_fns, min_freqs):\n",
    "    \"\"\"\n",
    "    Enumerate all possible classifier settings and compute the\n",
    "    cross validation accuracy for each setting. We will use this\n",
    "    to determine which setting has the best accuracy.\n",
    "    For each setting, construct a LogisticRegression classifier\n",
    "    and compute its cross-validation accuracy for that setting.\n",
    "    In addition to looping over possible assignments to\n",
    "    keep_internal_punct and min_freqs, we will enumerate all\n",
    "    possible combinations of feature functions. So, if\n",
    "    feature_fns = [token_features, token_pair_features, lexicon_features],\n",
    "    then we will consider all 7 combinations of features (see Log.txt\n",
    "    for more examples).\n",
    "    Params:\n",
    "      docs..........The list of original training documents.\n",
    "      labels........The true labels for each training document (0 or 1)\n",
    "      punct_vals....List of possible assignments to\n",
    "                    keep_internal_punct (e.g., [True, False])\n",
    "      feature_fns...List of possible feature functions to use\n",
    "      min_freqs.....List of possible min_freq values to use\n",
    "                    (e.g., [2,5,10])\n",
    "    Returns:\n",
    "      A list of dicts, one per combination. Each dict has\n",
    "      four keys:\n",
    "      'punct': True or False, the setting of keep_internal_punct\n",
    "      'features': The list of functions used to compute features.\n",
    "      'min_freq': The setting of the min_freq parameter.\n",
    "      'accuracy': The average cross_validation accuracy for this setting, using 5 folds.\n",
    "      This list should be SORTED in descending order of accuracy.\n",
    "      This function will take a bit longer to run (~20s for me).\n",
    "    \"\"\"\n",
    "    feats = []\n",
    "    for x in range(1,len(feature_fns)+1):\n",
    "        for i in combinations(feature_fns,x):\n",
    "            feats.append(i)\n",
    "    final = []\n",
    "    for pv in punct_vals:\n",
    "        token = []\n",
    "        for d in docs:\n",
    "            token.append(tokenize(d,pv))\n",
    "        for m in min_freqs:\n",
    "            for f in feats:\n",
    "                X, vocab = vectorize(token, f, m)\n",
    "                #model = LogisticRegression()\n",
    "                zo=cross_validation_accuracy(LogisticRegression(), X, labels, 5)\n",
    "                #t={}\n",
    "                #t['punct'] = pv\n",
    "                #t['features'] = f\n",
    "                #t['min_freq'] = m\n",
    "                #t['accuracy'] = zo\n",
    "                #final.append(t)\n",
    "                final.append({'punct' : pv, 'features' : f, 'min_freq' : m, 'accuracy' : zo})\n",
    "    srt = sorted(final,key=lambda x:(x['accuracy'],x['min_freq']), reverse=True)\n",
    "    return srt"
   ]
  },
  {
   "cell_type": "code",
   "execution_count": 270,
   "metadata": {
    "collapsed": true
   },
   "outputs": [],
   "source": [
    "def plot_sorted_accuracies(results):\n",
    "    \"\"\"\n",
    "    Plot all accuracies from the result of eval_all_combinations\n",
    "    in ascending order of accuracy.\n",
    "    Save to \"accuracies.png\".\n",
    "    \"\"\"\n",
    "    ###TODO\n",
    "    a = []\n",
    "    for i in results:\n",
    "        a.append(i[\"accuracy\"])\n",
    "    srt = sorted(a)\n",
    "    plt.plot(srt)\n",
    "    plt.xlabel(\"setting\")\n",
    "    plt.ylabel(\"accuracy\")\n",
    "    plt.savefig(\"accuracies.png\")\n",
    "    pass"
   ]
  },
  {
   "cell_type": "code",
   "execution_count": 271,
   "metadata": {
    "collapsed": true
   },
   "outputs": [],
   "source": [
    "def mean_accuracy_per_setting(results):\n",
    "    \"\"\"\n",
    "    To determine how important each model setting is to overall accuracy,\n",
    "    we'll compute the mean accuracy of all combinations with a particular\n",
    "    setting. For example, compute the mean accuracy of all runs with\n",
    "    min_freq=2.\n",
    "    Params:\n",
    "      results...The output of eval_all_combinations\n",
    "    Returns:\n",
    "      A list of (accuracy, setting) tuples, SORTED in\n",
    "      descending order of accuracy.\n",
    "    \"\"\"\n",
    "    ###TODO\n",
    "    accuracy = []\n",
    "    f = []\n",
    "    for i in results:\n",
    "        accuracy.append((\"features\", i['features']))\n",
    "        accuracy.append((\"min_freq\", i['min_freq']))\n",
    "        accuracy.append((\"punct\", i['punct']))\n",
    "    for i in set(accuracy):\n",
    "        acc = []\n",
    "        for j in results:\n",
    "            if j[i[0]] == i[1]:\n",
    "                acc.append(j['accuracy'])\n",
    "                #print(acc)\n",
    "        if 'features' in i[0]:\n",
    "            fname = [k.__name__ for k in i[1]]\n",
    "            f.append((np.mean(acc), str((\"features=\" + \" \".join(fname)))))\n",
    "        else:\n",
    "            f.append((np.mean(acc), (i[0] + \"=\" + str(i[1]))))\n",
    "    srt = sorted(f, key=lambda x: -x[0])\n",
    "    return srt\n",
    "    #accuracy = []\n",
    "    #f = []\n",
    "    #for i in results:\n",
    "    #    f[\"min_freq=\"+str(result[\"min_freq\"])] = (temp[\"min_freq=\"+str(result)])\n",
    "    "
   ]
  },
  {
   "cell_type": "code",
   "execution_count": 272,
   "metadata": {
    "collapsed": true
   },
   "outputs": [],
   "source": [
    "def fit_best_classifier(docs, labels, best_result):\n",
    "    \"\"\"\n",
    "    Using the best setting from eval_all_combinations,\n",
    "    re-vectorize all the training data and fit a\n",
    "    LogisticRegression classifier to all training data.\n",
    "    (i.e., no cross-validation done here)\n",
    "    Params:\n",
    "      docs..........List of training document strings.\n",
    "      labels........The true labels for each training document (0 or 1)\n",
    "      best_result...Element of eval_all_combinations\n",
    "                    with highest accuracy\n",
    "    Returns:\n",
    "      clf.....A LogisticRegression classifier fit to all\n",
    "            training data.\n",
    "      vocab...The dict from feature name to column index.\n",
    "    \"\"\"\n",
    "    ###TODO\n",
    "    t=[]\n",
    "    minfreq=best_result[\"min_freq\"]\n",
    "    features = best_result[\"features\"]\n",
    "    punct = best_result[\"punct\"]\n",
    "    for i in docs:\n",
    "        t.append(tokenize(i,punct))\n",
    "    X,v = vectorize(t,features,minfreq)\n",
    "    clf=LogisticRegression()\n",
    "    clf.fit(X,labels)\n",
    "    return clf,v\n",
    "    \n",
    "    pass"
   ]
  },
  {
   "cell_type": "code",
   "execution_count": 273,
   "metadata": {
    "collapsed": true
   },
   "outputs": [],
   "source": [
    "def top_coefs(clf, label, n, vocab):\n",
    "    \"\"\"\n",
    "    Find the n features with the highest coefficients in\n",
    "    this classifier for this label.\n",
    "    See the .coef_ attribute of LogisticRegression.\n",
    "    Params:\n",
    "      clf.....LogisticRegression classifier\n",
    "      label...1 or 0; if 1, return the top coefficients\n",
    "              for the positive class; else for negative.\n",
    "      n.......The number of coefficients to return.\n",
    "      vocab...Dict from feature name to column index.\n",
    "    Returns:\n",
    "      List of (feature_name, coefficient) tuples, SORTED\n",
    "      in descending order of the coefficient for the\n",
    "      given class label.\n",
    "    \"\"\"\n",
    "    ###TODO\n",
    "    r=[]\n",
    "    co = clf.coef_[0]\n",
    "    #going for neg\n",
    "    if label == 0:\n",
    "        for i in vocab:\n",
    "            r.append((i,co[vocab[i]]))\n",
    "        sort = sorted(r,key=lambda x: x[1])\n",
    "        r1 = []\n",
    "        for i in sort[:n]:\n",
    "            r1.append((i[0],-1*i[1]))\n",
    "        return r1\n",
    "    \n",
    "    #going for pos\n",
    "    elif label == 1:\n",
    "        for i in vocab:\n",
    "            r.append((i,co[vocab[i]]))\n",
    "        return sorted(r,key=lambda x: -x[1])[:n]\n",
    "    pass"
   ]
  },
  {
   "cell_type": "code",
   "execution_count": 274,
   "metadata": {
    "collapsed": true
   },
   "outputs": [],
   "source": [
    "def parse_test_data(best_result, vocab):\n",
    "    \"\"\"\n",
    "    Using the vocabulary fit to the training data, read\n",
    "    and vectorize the testing data. Note that vocab should\n",
    "    be passed to the vectorize function to ensure the feature\n",
    "    mapping is consistent from training to testing.\n",
    "    Note: use read_data function defined above to read the\n",
    "    test data.\n",
    "    Params:\n",
    "      best_result...Element of eval_all_combinations\n",
    "                    with highest accuracy\n",
    "      vocab.........dict from feature name to column index,\n",
    "                    built from the training data.\n",
    "    Returns:\n",
    "      test_docs.....List of strings, one per testing document,\n",
    "                    containing the raw.\n",
    "      test_labels...List of ints, one per testing document,\n",
    "                    1 for positive, 0 for negative.\n",
    "      X_test........A csr_matrix representing the features\n",
    "                    in the test data. Each row is a document,\n",
    "                    each column is a feature.\n",
    "    \"\"\"\n",
    "    ###TODO\n",
    "    list_t=[]\n",
    "    test_docs, test_labels = read_data(os.path.join('data','test'))\n",
    "    f=best_result[\"features\"]\n",
    "    minf=best_result[\"min_freq\"]\n",
    "    punch = best_result[\"punct\"]\n",
    "    for i in test_docs:\n",
    "        list_t.append(tokenize(i,punch))\n",
    "    X_test,new_vocab = vectorize(list_t,f,minf,vocab)\n",
    "    return test_docs,test_labels,X_test\n",
    "    pass"
   ]
  },
  {
   "cell_type": "code",
   "execution_count": 275,
   "metadata": {
    "collapsed": true
   },
   "outputs": [],
   "source": [
    "def print_top_misclassified(test_docs, test_labels, X_test, clf, n):\n",
    "    \"\"\"\n",
    "    Print the n testing documents that are misclassified by the\n",
    "    largest margin. By using the .predict_proba function of\n",
    "    LogisticRegression <https://goo.gl/4WXbYA>, we can get the\n",
    "    predicted probabilities of each class for each instance.\n",
    "    We will first identify all incorrectly classified documents,\n",
    "    then sort them in descending order of the predicted probability\n",
    "    for the incorrect class.\n",
    "    E.g., if document i is misclassified as positive, we will\n",
    "    consider the probability of the positive class when sorting.\n",
    "    Params:\n",
    "      test_docs.....List of strings, one per test document\n",
    "      test_labels...Array of true testing labels\n",
    "      X_test........csr_matrix for test data\n",
    "      clf...........LogisticRegression classifier fit on all training\n",
    "                    data.\n",
    "      n.............The number of documents to print.\n",
    "    Returns:\n",
    "      Nothing; see Log.txt for example printed output.\n",
    "    \"\"\"\n",
    "    ###TODO\n",
    "    new_list=[]\n",
    "    p_1=clf.predict_proba(X_test)\n",
    "    p = clf.predict(X_test)\n",
    "    for i in range(0,len(p)):\n",
    "        d={}\n",
    "        if(p[i] != test_labels[i]):\n",
    "            if p[i] == 0:\n",
    "                d['test'] = test_docs[i]\n",
    "                d['true'] = p_1[i][0]\n",
    "                d['predicted'] = p[i]\n",
    "                d['label'] = test_labels[i]\n",
    "            else:\n",
    "                d['test'] = test_docs[i]\n",
    "                d['true'] = p_1[i][1]\n",
    "                d['predicted'] = p[i]\n",
    "                d['label'] = test_labels[i]\n",
    "            new_list.append(d)\n",
    "    new_list = sorted(new_list,key=lambda x:(-x['true']))[:n]\n",
    "    for i in new_list:\n",
    "        print('truth=%d predicted=%d proba=%.6f'%(i['label'],i['predicted'],i['true']))\n",
    "        print(i['test']+\"\\n\")\n",
    "    pass"
   ]
  },
  {
   "cell_type": "code",
   "execution_count": 276,
   "metadata": {
    "scrolled": false
   },
   "outputs": [
    {
     "name": "stdout",
     "output_type": "stream",
     "text": [
      "best cross-validation result:\n",
      "{'punct': True, 'features': (<function token_pair_features at 0x00000271516B11E0>, <function lexicon_features at 0x00000271516AD1E0>), 'min_freq': 2, 'accuracy': 0.77000000000000013}\n",
      "worst cross-validation result:\n",
      "{'punct': True, 'features': (<function lexicon_features at 0x00000271516AD1E0>,), 'min_freq': 2, 'accuracy': 0.64749999999999996}\n",
      "\n",
      "Mean Accuracies per Setting:\n",
      "features=token_pair_features lexicon_features: 0.75000\n",
      "features=token_features token_pair_features lexicon_features: 0.74542\n",
      "features=token_features token_pair_features: 0.73583\n",
      "features=token_pair_features: 0.72917\n",
      "min_freq=2: 0.72286\n",
      "punct=False: 0.72012\n",
      "min_freq=5: 0.71893\n",
      "punct=True: 0.70845\n",
      "min_freq=10: 0.70107\n",
      "features=token_features lexicon_features: 0.69792\n",
      "features=token_features: 0.69042\n",
      "features=lexicon_features: 0.65125\n",
      "\n",
      "TOP COEFFICIENTS PER CLASS:\n",
      "negative words:\n",
      "neg_words: 0.66100\n",
      "token_pair=the__worst: 0.37472\n",
      "token_pair=is__so: 0.31505\n",
      "token_pair=about__the: 0.30285\n",
      "token_pair=like__a: 0.27090\n",
      "\n",
      "positive words:\n",
      "pos_words: 0.52591\n",
      "token_pair=it__is: 0.24448\n",
      "token_pair=a__lot: 0.21027\n",
      "token_pair=to__find: 0.20834\n",
      "token_pair=the__and: 0.20219\n",
      "testing accuracy=0.730000\n",
      "\n",
      "TOP MISCLASSIFIED TEST DOCUMENTS:\n",
      "truth=0 predicted=1 proba=0.993755\n",
      "I absolutely despise this film. I wanted to love it - I really wanted to. But man, oh man - they were SO off with Sara. And the father living was pretty cheesy. That's straight out of the Shirley Temple film.<br /><br />I highly recommend THE BOOK. It is amazing. In the book, Sara is honorable and decent and she does the right thing... BECAUSE IT IS RIGHT. She doesn't have a spiteful bone in her body.<br /><br />In the film, she is mean-spirited and spiteful. She does little things to get back at Miss Minchin. In the book, Sara is above such things. She DOES stand up to Miss Minchin. She tells the truth and is not cowed by her. But she does not do the stupid, spiteful things that the Sara in the film does.<br /><br />It's really rather unsettling to me that so many here say they loved the book and they love the movie. I can't help but wonder... did we read the same book? The whole point of the book was personal responsibility, behaving with honor and integrity, ALWAYS telling the truth and facing adversity with calm and integrity.<br /><br />Sara has a happy ending in the book - not the ridiculous survival of her father, but the joining with his partner who has been searching for her. In the book, she is taken in by this new father figure who loves and cares for her and Becky. And Miss Minchin is NOT a chimney sweep - that part of the film really was stupid.<br /><br />To see all this praise for this wretched film is disturbing to me. We are praising a film that glorifies petty, spiteful behavior with a few tips of the hat to kindness? Sara in the book was kind to the bone and full of integrity. I don't even recognize her in the film... she's not in it.<br /><br />Good thing Mrs. Burnett isn't alive to see this horrid thing. It's ghastly and undeserving to bear the title of her book.\n",
      "\n",
      "truth=0 predicted=1 proba=0.991476\n",
      "When I attended college in the early 70s, it was a simpler time. Except for a brief occurrence in 1994, I've been totally free of the influence of illegal substances ever since and I've never regretted it...until now. DB:TBTE has got to be, hands-down, the best movie to watch when stoned. The odd, dreamlike state it creates is very strange when you're not smoking anything, but I'm sure that it would seem completely normal after a big doobie. (Not that I'm recommending this, you understand.) The soothing narration, provided, as it usually is in quality cinema, by a TB victim trapped in a painting, would be ideal to help the stoned viewer to follow along as things get complicated. Plus, everything in the film is pretty organic...from old-fashioned natural breasts to the bucket of fried chicken.<br /><br />Now, there's also no question that the young man with the (ahem) \"hand problem\" is absolutely sailing away in the film. At one point, you just KNOW that he's going to say, \"Hey! When I move my hand, it leaves trails!!\" Trust me...you'll know when you get to that point.<br /><br />The only other thing we have to address is this: How good can a film be when at least half the budget was spent on moving a huge bed frame around for interior and exterior shots? <br /><br />Definitely a must-see for horror aficionados, but suitable for the general audiences under the right conditions (if you know what I mean, and I think that you do). It only earns four stars because I can't actually say that it took any talent to make.\n",
      "\n",
      "truth=1 predicted=0 proba=0.990858\n",
      "Being a freshman in college, this movie reminded me of my relationship with my mom. Of course, my situation doesn't parrallel with Natalie Portman and Surandon's situation; but my mom and I have grown up with the typical mother and daughter fights. There is always the mother telling you what to do, or not being the kind of mother you want to be. I was balling my eyes at the end of this movie. Surandon's reaction of her daughter going to the East coast, miles away, after all they've been through reminded me of how I felt, being from a small city in the West coast, going to New York. <br /><br />The movie is meant for women who have children that are now all grown up. It is very touching, I was moved by the movie. Every feeling out of the characters in this movie was utterly real, you didn't get any phony sentimentality. I was sitting through the credits at the screening of this movie, alone, wishing my mother was sitting next to me so I could hug her and thank her for everything. This movie is a bit corny of course, but everything is trully momentous. Its all about what a mom can learn from her child; and what a child learns from her mother. 8/10\n",
      "\n",
      "truth=1 predicted=0 proba=0.990769\n",
      "In defense of this movie I must repeat what I had stated previously. The movie is called Arachina, it has a no name cast and I do not mean no name as in actors who play in little seen art house films. I mean no name as in your local high school decided to make a film no name and it might have a 2 dollar budget. So what does one expect? Hitchcock?<br /><br />I felt the movie never took itself seriously which automatically takes it out of the worst movie list. That list is only for big budget all star cast movies that takes itself way too seriously. THe movie The Oscar comes to mind, most of Sylvester Stallone's movies. THe two leads were not Hepburn and Tracy but they did their jobs well enough for this movie. The woman kicked butt and the guy was not a blithering idiot. The actor who played the old man was actually very good. The man who played anal retentive professor was no Clifton Webb but he did a god job. And the Bimbo's for lack of a better were played by two competent actors. I laughed at the 50 cent special effects. But that was part of the charm of the movie. It played like a hybrid Tremors meets Night of the Living Dead. The premise of the movie is just like all Giant Bug movies of the 50's. A Meteor or radiation stir up the ecosystem and before you know it we have Giant Ants, Lobsters, rocks or Lizards terrorizing the locals. A meteor was the cause of the problems this time. I was was very entertained. I didn't expect much and I go a lot more then I bargained for.\n",
      "\n",
      "truth=1 predicted=0 proba=0.974709\n",
      "Ah, classic comedy. At the point in the movie where brains get messed together, a two minute scene with Bruce Campbell beating himself up partially, reminds me of how simplistic movies and ideas can grab you and wrap you into a whole movie.<br /><br />For years and years, Bruce Campbell knows what kind of movies we want out of him. We want to see weird movies like Bubba Ho Tep. We want to see cameo roles in Sam Raimi movies, and we want to see 'Man with the Screaming Brain'. With the title alone, one knows that it's going to border that completely silly type of movie, like Army of Darkness, only with more silly and less monsters.<br /><br />The idea of the movie is simple. Bruce sees doctor. Doctor has new idea. Bruce gets bad things happen to him on way to see doctor. Coincidentally, it's the thing the doctor wanted to show him that saves him. Hilarity ensues.<br /><br />With the addition of Ted Raimi as a weird Russian guy, and journeyman Stacy Keach as Dr. Ivan Ivanovich Ivanov, it's funny, that does this movie. Complete funny. Never a point of scary.<br /><br />If you like the silly Bruce Campbell, you'll like this. Then again, why would you be watching this if you didn't like Bruce Campbell?\n",
      "\n"
     ]
    }
   ],
   "source": [
    "def main():\n",
    "    \"\"\"\n",
    "    Put it all together.\n",
    "    ALREADY DONE.\n",
    "    \"\"\"\n",
    "    feature_fns = [token_features, token_pair_features, lexicon_features]\n",
    "    # Download and read data.\n",
    "    download_data()\n",
    "    docs, labels = read_data(os.path.join('data', 'train'))\n",
    "    # Evaluate accuracy of many combinations\n",
    "    # of tokenization/featurization.\n",
    "    results = eval_all_combinations(docs, labels,\n",
    "                                    [True, False],\n",
    "                                    feature_fns,\n",
    "                                    [2,5,10])\n",
    "    # Print information about these results.\n",
    "    best_result = results[0]\n",
    "    worst_result = results[-1]\n",
    "    print('best cross-validation result:\\n%s' % str(best_result))\n",
    "    print('worst cross-validation result:\\n%s' % str(worst_result))\n",
    "    plot_sorted_accuracies(results)\n",
    "    print('\\nMean Accuracies per Setting:')\n",
    "    print('\\n'.join(['%s: %.5f' % (s,v) for v,s in mean_accuracy_per_setting(results)]))\n",
    "\n",
    "    # Fit best classifier.\n",
    "    clf, vocab = fit_best_classifier(docs, labels, results[0])\n",
    "\n",
    "    # Print top coefficients per class.\n",
    "    print('\\nTOP COEFFICIENTS PER CLASS:')\n",
    "    print('negative words:')\n",
    "    print('\\n'.join(['%s: %.5f' % (t,v) for t,v in top_coefs(clf, 0, 5, vocab)]))\n",
    "    print('\\npositive words:')\n",
    "    print('\\n'.join(['%s: %.5f' % (t,v) for t,v in top_coefs(clf, 1, 5, vocab)]))\n",
    "\n",
    "    # Parse test data\n",
    "    test_docs, test_labels, X_test = parse_test_data(best_result, vocab)\n",
    "\n",
    "    # Evaluate on test set.\n",
    "    predictions = clf.predict(X_test)\n",
    "    print('testing accuracy=%f' %\n",
    "          accuracy_score(test_labels, predictions))\n",
    "\n",
    "    print('\\nTOP MISCLASSIFIED TEST DOCUMENTS:')\n",
    "    print_top_misclassified(test_docs, test_labels, X_test, clf, 5)\n",
    "\n",
    "\n",
    "if __name__ == '__main__':\n",
    "    main()"
   ]
  },
  {
   "cell_type": "code",
   "execution_count": null,
   "metadata": {
    "collapsed": true
   },
   "outputs": [],
   "source": []
  },
  {
   "cell_type": "code",
   "execution_count": null,
   "metadata": {
    "collapsed": true
   },
   "outputs": [],
   "source": []
  },
  {
   "cell_type": "code",
   "execution_count": null,
   "metadata": {
    "collapsed": true
   },
   "outputs": [],
   "source": []
  },
  {
   "cell_type": "code",
   "execution_count": null,
   "metadata": {
    "collapsed": true
   },
   "outputs": [],
   "source": [
    "    "
   ]
  }
 ],
 "metadata": {
  "kernelspec": {
   "display_name": "Python 3",
   "language": "python",
   "name": "python3"
  },
  "language_info": {
   "codemirror_mode": {
    "name": "ipython",
    "version": 3
   },
   "file_extension": ".py",
   "mimetype": "text/x-python",
   "name": "python",
   "nbconvert_exporter": "python",
   "pygments_lexer": "ipython3",
   "version": "3.6.4"
  }
 },
 "nbformat": 4,
 "nbformat_minor": 2
}
